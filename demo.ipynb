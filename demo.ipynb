{
 "metadata": {
  "language_info": {
   "codemirror_mode": {
    "name": "ipython",
    "version": 3
   },
   "file_extension": ".py",
   "mimetype": "text/x-python",
   "name": "python",
   "nbconvert_exporter": "python",
   "pygments_lexer": "ipython3",
   "version": "3.6.12"
  },
  "orig_nbformat": 2,
  "kernelspec": {
   "name": "python3",
   "display_name": "Python 3.6.12 64-bit ('venv_name': conda)",
   "metadata": {
    "interpreter": {
     "hash": "171f93c9f907972cde02b4d5d289153320a9d50909a8b5093a41b0f175ae31a4"
    }
   }
  }
 },
 "nbformat": 4,
 "nbformat_minor": 2,
 "cells": [
  {
   "cell_type": "code",
   "execution_count": 1,
   "metadata": {},
   "outputs": [],
   "source": [
    "import fasttext"
   ]
  },
  {
   "cell_type": "code",
   "execution_count": 2,
   "metadata": {},
   "outputs": [],
   "source": [
    "# import io\n",
    "\n",
    "# def load_vectors(fname):\n",
    "#     fin = io.open(fname, 'r', encoding='utf-8', newline='\\n', errors='ignore')\n",
    "#     n, d = map(int, fin.readline().split())\n",
    "#     data = {}\n",
    "#     for line in fin:\n",
    "#         tokens = line.rstrip().split(' ')\n",
    "#         data[tokens[0]] = map(float, tokens[1:])\n",
    "#     return data"
   ]
  },
  {
   "cell_type": "code",
   "execution_count": 3,
   "metadata": {},
   "outputs": [],
   "source": [
    "# # vec = load_vectors(\"/Users/edgarmonis/Desktop/code/WHO/chitchat-fasttext/crawl-300d-2M.vec\")\n",
    "# import ssl\n",
    "# ssl._create_default_https_context = ssl._create_unverified_context"
   ]
  },
  {
   "cell_type": "code",
   "execution_count": 4,
   "metadata": {},
   "outputs": [],
   "source": [
    "# import fasttext.util\n",
    "# fasttext.util.download_model('en', if_exists='ignore')"
   ]
  },
  {
   "cell_type": "code",
   "execution_count": 5,
   "metadata": {},
   "outputs": [],
   "source": [
    "ft = fasttext.load_model('cc.en.300.bin')"
   ]
  },
  {
   "cell_type": "code",
   "execution_count": 6,
   "metadata": {},
   "outputs": [
    {
     "output_type": "execute_result",
     "data": {
      "text/plain": [
       "array([-3.5594115e-03,  1.8136576e-05,  3.6150604e-03,  1.9668644e-02,\n",
       "       -3.0773604e-02, -3.7558349e-03,  1.1250984e-02,  1.9613564e-02,\n",
       "        3.4211092e-03,  2.0688642e-03], dtype=float32)"
      ]
     },
     "metadata": {},
     "execution_count": 6
    }
   ],
   "source": [
    "ft.get_sentence_vector(\"My name is jeff\")[:10]"
   ]
  },
  {
   "cell_type": "code",
   "execution_count": 7,
   "metadata": {},
   "outputs": [],
   "source": [
    "import json \n",
    "\n",
    "# f = open(\"/Users/edgarmonis/Desktop/code/WHO/chitchat-fasttext/data/labelled_data.json\",) \n",
    "f = open(\"./production_data/labelled_data.json\",)\n",
    "data = json.load(f)"
   ]
  },
  {
   "cell_type": "code",
   "execution_count": 8,
   "metadata": {},
   "outputs": [],
   "source": [
    "vec_labels = {}\n",
    "for x in data.keys():\n",
    "    vec_labels[x] = (x,ft.get_sentence_vector(x))"
   ]
  },
  {
   "cell_type": "code",
   "execution_count": 23,
   "metadata": {},
   "outputs": [],
   "source": [
    "import numpy as np\n",
    "\n",
    "a = np.empty([0,300])\n",
    "\n",
    "for x in vec_labels.keys():\n",
    "    vec = vec_labels[x][1]\n",
    "    a = np.concatenate((a,np.expand_dims(vec,axis=0)),axis=0)"
   ]
  },
  {
   "cell_type": "code",
   "execution_count": 37,
   "metadata": {},
   "outputs": [
    {
     "output_type": "stream",
     "name": "stdout",
     "text": [
      "(10, 300)\n"
     ]
    },
    {
     "output_type": "execute_result",
     "data": {
      "text/plain": [
       "dtype('float32')"
      ]
     },
     "metadata": {},
     "execution_count": 37
    }
   ],
   "source": [
    "test = a[:10]\n",
    "test = np.float32(test)\n",
    "test_id = np.arange(test.shape[0])\n",
    "\n",
    "print(test.shape)\n",
    "test_id\n",
    "\n",
    "test.dtype"
   ]
  },
  {
   "cell_type": "code",
   "execution_count": 47,
   "metadata": {},
   "outputs": [],
   "source": [
    "# # vec_labels[x]\n",
    "# import faiss\n",
    "\n",
    "# index1 = faiss.IndexIDMap2(faiss.IndexFlatL2(300))\n",
    "\n",
    "# index1.add_with_ids(test,test_id)                  # add vectors to the index\n",
    "\n",
    "# vec_labels[x]\n",
    "import faiss\n",
    "\n",
    "index = faiss.IndexIDMap2(faiss.IndexFlatL2(300))\n",
    "\n",
    "index.add_with_ids(np.float32(a),np.arange(a.shape[0]))                  # add vectors to the index"
   ]
  },
  {
   "cell_type": "code",
   "execution_count": 48,
   "metadata": {},
   "outputs": [
    {
     "output_type": "stream",
     "name": "stdout",
     "text": [
      "[[0.         0.33376163 0.5448244  0.5651742 ]]\n[[   0 6877 2248 2256]]\n"
     ]
    }
   ],
   "source": [
    "# test[:1].shape\n",
    "D, I = index.search(test[:1], 4)\n",
    "print(D)\n",
    "print(I)"
   ]
  },
  {
   "cell_type": "code",
   "execution_count": 52,
   "metadata": {},
   "outputs": [],
   "source": [
    "# faiss.write_index(index, \"./chitchat_faq.bin\")\n",
    "faiss.write_index(index, \"./chitchat_faq.bin\")"
   ]
  },
  {
   "cell_type": "code",
   "execution_count": 54,
   "metadata": {},
   "outputs": [
    {
     "output_type": "stream",
     "name": "stdout",
     "text": [
      "[[0.         0.33376163 0.5448244  0.5651742 ]]\n[[   0 6877 2248 2256]]\n"
     ]
    }
   ],
   "source": [
    "# index2 = faiss.read_index(\"./chitchat_faq.bin\")\n",
    "index2 = faiss.read_index(\"./chitchat_faq.bin\")\n",
    "D, I = index2.search(test[:1], 4)\n",
    "\n",
    "print(D)\n",
    "print(I)"
   ]
  },
  {
   "cell_type": "code",
   "execution_count": 12,
   "metadata": {},
   "outputs": [],
   "source": [
    "from numpy import dot\n",
    "from numpy.linalg import norm\n",
    "\n",
    "def cosine_sim(a,b):\n",
    "    return dot(a, b)/(norm(a)*norm(b))"
   ]
  },
  {
   "cell_type": "code",
   "execution_count": 32,
   "metadata": {},
   "outputs": [],
   "source": [
    "\n",
    "top_5 = []\n",
    "\n",
    "for x in vec_labels.keys():\n",
    "    if data[x] == 0:\n",
    "        dist_ = []\n",
    "        for y in vec_labels.keys():\n",
    "            dist = cosine_sim(vec_labels[x][1],vec_labels[y][1])\n",
    "            dist_.append((dist,y))\n",
    "\n",
    "        dist_ = sorted(dist_, reverse=True)\n",
    "        top_5.append((x,dist_[:100]))"
   ]
  },
  {
   "cell_type": "code",
   "execution_count": 55,
   "metadata": {},
   "outputs": [],
   "source": [
    "# top_5[1]"
   ]
  },
  {
   "cell_type": "code",
   "execution_count": 56,
   "metadata": {},
   "outputs": [],
   "source": [
    "# top_5_[1]\n",
    "import fasttext\n",
    "ft = fasttext.load_model('cc.en.300.bin')"
   ]
  },
  {
   "cell_type": "code",
   "execution_count": 81,
   "metadata": {},
   "outputs": [],
   "source": [
    "# f = open(\"/Users/edgarmonis/Desktop/code/WHO/chitchat-fasttext/data/chitchat_answers.json\",) \n",
    "f = open(\"./production_data/chitchat_answers.json\",)\n",
    "chitchat_data = json.load(f)\n",
    "f.close()\n",
    "\n",
    "id_chitchat_answer = {}\n",
    "id_chitchat_question = {}\n",
    "id_chitchat_vector = {}\n",
    "\n",
    "\n",
    "chitchat_vecs = np.empty([0,300])\n",
    "chitchat_ids = np.empty([0])\n",
    "\n",
    "chitchat_id = 0\n",
    "for x in data.keys():\n",
    "    if data[x]==1:\n",
    "        id_chitchat_answer[chitchat_id] = chitchat_data[x]\n",
    "        id_chitchat_question[chitchat_id] = x\n",
    "        id_chitchat_vector[chitchat_id] = np.float32(ft.get_sentence_vector(x))\n",
    "\n",
    "        chitchat_vecs = np.concatenate(\n",
    "            (chitchat_vecs,np.expand_dims(id_chitchat_vector[chitchat_id], axis=0))\n",
    "        )\n",
    "        chitchat_ids = np.concatenate(\n",
    "            (chitchat_ids, np.array([chitchat_id],dtype=np.int))\n",
    "        )\n",
    "        chitchat_id += 1"
   ]
  },
  {
   "cell_type": "code",
   "execution_count": 82,
   "metadata": {},
   "outputs": [
    {
     "output_type": "stream",
     "name": "stdout",
     "text": [
      "writing id_chitchat_answer.json\nwriting id_chitchat_question.json\n"
     ]
    }
   ],
   "source": [
    "# json_file_name = \"id_chitchat_answer.json\"\n",
    "json_file_name = \"//production_data/id_chitchat_answer.json\"\n",
    "print(\"writing\", json_file_name)\n",
    "with open(json_file_name , 'w') as json_file:\n",
    "    json.dump(id_chitchat_answer, json_file,\\\n",
    "        indent = 4, sort_keys=True)\n",
    "\n",
    "# json_file_name = \"id_chitchat_question.json\"\n",
    "json_file_name = \"./production_data/id_chitchat_question.json\"\n",
    "print(\"writing\", json_file_name)\n",
    "with open(json_file_name , 'w') as json_file:\n",
    "    json.dump(id_chitchat_question, json_file,\\\n",
    "        indent = 4, sort_keys=True)\n",
    "\n",
    "chitchat_vecs = np.float32(chitchat_vecs)\n",
    "chitchat_ids = chitchat_ids.astype(int)"
   ]
  },
  {
   "cell_type": "code",
   "execution_count": 100,
   "metadata": {},
   "outputs": [],
   "source": [
    "import faiss\n",
    "\n",
    "index = faiss.IndexIDMap2(faiss.IndexFlatL2(300))\n",
    "\n",
    "index.add_with_ids(chitchat_vecs,chitchat_ids)"
   ]
  },
  {
   "cell_type": "code",
   "execution_count": 104,
   "metadata": {},
   "outputs": [],
   "source": [
    "# faiss.write_index(index, \"./chitchat.bin\")\n",
    "faiss.write_index(index, \".bin\")"
   ]
  },
  {
   "cell_type": "code",
   "execution_count": 116,
   "metadata": {},
   "outputs": [],
   "source": [
    "vec = np.expand_dims(np.float32(\n",
    "            ft.get_sentence_vector(\n",
    "                \"I am happy\"\n",
    "            )\n",
    "        ),axis=0)\n",
    "D,I = index.search(vec,10)"
   ]
  },
  {
   "cell_type": "code",
   "execution_count": 131,
   "metadata": {},
   "outputs": [
    {
     "output_type": "execute_result",
     "data": {
      "text/plain": [
       "\"I'm happy to hear that.\""
      ]
     },
     "metadata": {},
     "execution_count": 131
    }
   ],
   "source": [
    "# id_chitchat_answer[I[0][3]]"
   ]
  },
  {
   "cell_type": "code",
   "execution_count": null,
   "metadata": {},
   "outputs": [],
   "source": []
  }
 ]
}