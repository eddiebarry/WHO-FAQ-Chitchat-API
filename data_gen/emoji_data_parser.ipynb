{
 "metadata": {
  "language_info": {
   "codemirror_mode": {
    "name": "ipython",
    "version": 3
   },
   "file_extension": ".py",
   "mimetype": "text/x-python",
   "name": "python",
   "nbconvert_exporter": "python",
   "pygments_lexer": "ipython3",
   "version": "3.6.12"
  },
  "orig_nbformat": 2,
  "kernelspec": {
   "name": "python3",
   "display_name": "Python 3.6.12 64-bit ('venv_name': conda)",
   "metadata": {
    "interpreter": {
     "hash": "171f93c9f907972cde02b4d5d289153320a9d50909a8b5093a41b0f175ae31a4"
    }
   }
  }
 },
 "nbformat": 4,
 "nbformat_minor": 2,
 "cells": [
  {
   "cell_type": "code",
   "execution_count": 1,
   "metadata": {},
   "outputs": [],
   "source": [
    "import fasttext"
   ]
  },
  {
   "cell_type": "code",
   "execution_count": 2,
   "metadata": {},
   "outputs": [],
   "source": [
    "ft = fasttext.load_model('../cc.en.300.bin')"
   ]
  },
  {
   "cell_type": "code",
   "execution_count": 3,
   "metadata": {},
   "outputs": [
    {
     "output_type": "execute_result",
     "data": {
      "text/plain": [
       "array([-3.5594115e-03,  1.8136576e-05,  3.6150604e-03,  1.9668644e-02,\n",
       "       -3.0773604e-02, -3.7558349e-03,  1.1250984e-02,  1.9613564e-02,\n",
       "        3.4211092e-03,  2.0688642e-03], dtype=float32)"
      ]
     },
     "metadata": {},
     "execution_count": 3
    }
   ],
   "source": [
    "ft.get_sentence_vector(\"My name is jeff\")[:10]"
   ]
  },
  {
   "cell_type": "code",
   "execution_count": 4,
   "metadata": {},
   "outputs": [],
   "source": [
    "# create a id vector\n",
    "import json \n",
    "\n",
    "f = open(\"/Users/edgarmonis/Desktop/code/WHO/chitchat-fasttext/data_gen/emoji_data_qna.json\",'r')\n",
    "data = json.load(f)\n",
    "f.close()"
   ]
  },
  {
   "cell_type": "code",
   "execution_count": 5,
   "metadata": {},
   "outputs": [],
   "source": [
    "import re\n",
    "id_data_question = {}\n",
    "id_data_answer = {}\n",
    "\n",
    "idx = 0\n",
    "for x in data.keys():\n",
    "    id_data_answer[idx]=data[x]\n",
    "    id_data_question[idx]=re.sub('[^A-Za-z0-9\\s]+', '', x)\n",
    "    idx+=1"
   ]
  },
  {
   "cell_type": "code",
   "execution_count": 6,
   "metadata": {},
   "outputs": [],
   "source": [
    "vec_labels = {}\n",
    "for id_ in id_data_question.keys():\n",
    "    vec_labels[id_] = (id_,ft.get_sentence_vector(id_data_question[id_]))\n",
    "    # break"
   ]
  },
  {
   "cell_type": "code",
   "execution_count": 7,
   "metadata": {},
   "outputs": [],
   "source": [
    "import numpy as np\n",
    "\n",
    "a = np.empty([0,300])\n",
    "\n",
    "for x in vec_labels.keys():\n",
    "    vec = vec_labels[x][1]\n",
    "    a = np.concatenate((a,np.expand_dims(vec,axis=0)),axis=0)"
   ]
  },
  {
   "cell_type": "code",
   "execution_count": 8,
   "metadata": {},
   "outputs": [
    {
     "output_type": "stream",
     "name": "stdout",
     "text": [
      "(10, 300)\n"
     ]
    },
    {
     "output_type": "execute_result",
     "data": {
      "text/plain": [
       "dtype('float32')"
      ]
     },
     "metadata": {},
     "execution_count": 8
    }
   ],
   "source": [
    "test = a[:10]\n",
    "test = np.float32(test)\n",
    "test_id = np.arange(test.shape[0])\n",
    "\n",
    "print(test.shape)\n",
    "test_id\n",
    "\n",
    "test.dtype"
   ]
  },
  {
   "cell_type": "code",
   "execution_count": 9,
   "metadata": {},
   "outputs": [],
   "source": [
    "# # vec_labels[x]\n",
    "# import faiss\n",
    "\n",
    "# index1 = faiss.IndexIDMap2(faiss.IndexFlatL2(300))\n",
    "\n",
    "# index1.add_with_ids(test,test_id)                  # add vectors to the index\n",
    "\n",
    "# vec_labels[x]\n",
    "import faiss\n",
    "\n",
    "index = faiss.IndexIDMap2(faiss.IndexFlatL2(300))\n",
    "\n",
    "index.add_with_ids(np.float32(a),np.arange(a.shape[0]))                  # add vectors to the index"
   ]
  },
  {
   "cell_type": "code",
   "execution_count": 10,
   "metadata": {},
   "outputs": [
    {
     "output_type": "stream",
     "name": "stdout",
     "text": [
      "[[0.         0.24871458 0.24985558 0.25136146]]\n[[   0 9124  553 4423]]\n"
     ]
    }
   ],
   "source": [
    "# test[:1].shape\n",
    "D, I = index.search(test[:1], 4)\n",
    "print(D)\n",
    "print(I)"
   ]
  },
  {
   "cell_type": "code",
   "execution_count": 11,
   "metadata": {},
   "outputs": [],
   "source": [
    "faiss.write_index(index, \"./chitchat_emoji_faq.bin\")"
   ]
  },
  {
   "cell_type": "code",
   "execution_count": 12,
   "metadata": {},
   "outputs": [
    {
     "output_type": "stream",
     "name": "stdout",
     "text": [
      "[[0.         0.24871458 0.24985558 0.25136146]]\n[[   0 9124  553 4423]]\n"
     ]
    }
   ],
   "source": [
    "index2 = faiss.read_index(\"./chitchat_emoji_faq.bin\")\n",
    "D, I = index2.search(test[:1], 4)\n",
    "\n",
    "print(D)\n",
    "print(I)"
   ]
  },
  {
   "cell_type": "code",
   "execution_count": 13,
   "metadata": {},
   "outputs": [
    {
     "output_type": "stream",
     "name": "stdout",
     "text": [
      "writing id_emoji_chitchat_answer.json\nwriting id_emoji_chitchat_question.json\n"
     ]
    }
   ],
   "source": [
    "json_file_name = \"id_emoji_chitchat_answer.json\"\n",
    "print(\"writing\", json_file_name)\n",
    "with open(json_file_name , 'w') as json_file:\n",
    "    json.dump(id_data_answer, json_file,\\\n",
    "        indent = 4, sort_keys=True)\n",
    "\n",
    "json_file_name = \"id_emoji_chitchat_question.json\"\n",
    "print(\"writing\", json_file_name)\n",
    "with open(json_file_name , 'w') as json_file:\n",
    "    json.dump(id_data_question, json_file,\\\n",
    "        indent = 4, sort_keys=True)\n",
    "\n",
    "# chitchat_vecs = np.float32(chitchat_vecs)\n",
    "# chitchat_ids = chitchat_ids.astype(int)"
   ]
  },
  {
   "cell_type": "code",
   "execution_count": 14,
   "metadata": {},
   "outputs": [
    {
     "output_type": "error",
     "ename": "NameError",
     "evalue": "name 'chitchat_vecs' is not defined",
     "traceback": [
      "\u001b[0;31m---------------------------------------------------------------------------\u001b[0m",
      "\u001b[0;31mNameError\u001b[0m                                 Traceback (most recent call last)",
      "\u001b[0;32m<ipython-input-14-5b554b16d2fe>\u001b[0m in \u001b[0;36m<module>\u001b[0;34m\u001b[0m\n\u001b[1;32m      3\u001b[0m \u001b[0mindex\u001b[0m \u001b[0;34m=\u001b[0m \u001b[0mfaiss\u001b[0m\u001b[0;34m.\u001b[0m\u001b[0mIndexIDMap2\u001b[0m\u001b[0;34m(\u001b[0m\u001b[0mfaiss\u001b[0m\u001b[0;34m.\u001b[0m\u001b[0mIndexFlatL2\u001b[0m\u001b[0;34m(\u001b[0m\u001b[0;36m300\u001b[0m\u001b[0;34m)\u001b[0m\u001b[0;34m)\u001b[0m\u001b[0;34m\u001b[0m\u001b[0;34m\u001b[0m\u001b[0m\n\u001b[1;32m      4\u001b[0m \u001b[0;34m\u001b[0m\u001b[0m\n\u001b[0;32m----> 5\u001b[0;31m \u001b[0mindex\u001b[0m\u001b[0;34m.\u001b[0m\u001b[0madd_with_ids\u001b[0m\u001b[0;34m(\u001b[0m\u001b[0mchitchat_vecs\u001b[0m\u001b[0;34m,\u001b[0m\u001b[0mchitchat_ids\u001b[0m\u001b[0;34m)\u001b[0m\u001b[0;34m\u001b[0m\u001b[0;34m\u001b[0m\u001b[0m\n\u001b[0m",
      "\u001b[0;31mNameError\u001b[0m: name 'chitchat_vecs' is not defined"
     ]
    }
   ],
   "source": [
    "import faiss\n",
    "\n",
    "index = faiss.IndexIDMap2(faiss.IndexFlatL2(300))\n",
    "\n",
    "index.add_with_ids(chitchat_vecs,chitchat_ids)"
   ]
  },
  {
   "cell_type": "code",
   "execution_count": 104,
   "metadata": {},
   "outputs": [],
   "source": [
    "faiss.write_index(index, \"./chitchat.bin\")"
   ]
  },
  {
   "cell_type": "code",
   "execution_count": 29,
   "metadata": {},
   "outputs": [
    {
     "output_type": "execute_result",
     "data": {
      "text/plain": [
       "'Great, thanks.'"
      ]
     },
     "metadata": {},
     "execution_count": 29
    }
   ],
   "source": [
    "vec = np.expand_dims(np.float32(\n",
    "            ft.get_sentence_vector(\n",
    "                re.sub('[^A-Za-z0-9\\s]+', '',\"how are you ?\")\n",
    "            )\n",
    "        ),axis=0)\n",
    "D,I = index2.search(vec,1)\n",
    "id_data_answer[I[0][0]]"
   ]
  },
  {
   "cell_type": "code",
   "execution_count": 22,
   "metadata": {},
   "outputs": [
    {
     "output_type": "execute_result",
     "data": {
      "text/plain": [
       "\"I'm happy to hear that.\""
      ]
     },
     "metadata": {},
     "execution_count": 22
    }
   ],
   "source": []
  },
  {
   "cell_type": "code",
   "execution_count": null,
   "metadata": {},
   "outputs": [],
   "source": []
  }
 ]
}